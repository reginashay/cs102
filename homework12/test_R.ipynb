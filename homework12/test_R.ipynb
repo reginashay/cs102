{
 "cells": [
  {
   "cell_type": "code",
   "execution_count": 3,
   "metadata": {},
   "outputs": [],
   "source": [
    "df <- read.csv('brain_size.csv', sep=',')"
   ]
  },
  {
   "cell_type": "code",
   "execution_count": 4,
   "metadata": {},
   "outputs": [
    {
     "data": {
      "text/html": [
       "<table>\n",
       "<thead><tr><th scope=col>Gender</th><th scope=col>FSIQ</th><th scope=col>VIQ</th><th scope=col>PIQ</th><th scope=col>Weight</th><th scope=col>Height</th><th scope=col>MRI_Count</th></tr></thead>\n",
       "<tbody>\n",
       "\t<tr><td>Female </td><td>133    </td><td>132    </td><td>124    </td><td>118    </td><td>64.5   </td><td> 816932</td></tr>\n",
       "\t<tr><td>Male   </td><td>140    </td><td>150    </td><td>124    </td><td> NA    </td><td>72.5   </td><td>1001121</td></tr>\n",
       "\t<tr><td>Male   </td><td>139    </td><td>123    </td><td>150    </td><td>143    </td><td>73.3   </td><td>1038437</td></tr>\n",
       "\t<tr><td>Male   </td><td>133    </td><td>129    </td><td>128    </td><td>172    </td><td>68.8   </td><td> 965353</td></tr>\n",
       "\t<tr><td>Female </td><td>137    </td><td>132    </td><td>134    </td><td>147    </td><td>65.0   </td><td> 951545</td></tr>\n",
       "\t<tr><td>Female </td><td> 99    </td><td> 90    </td><td>110    </td><td>146    </td><td>69.0   </td><td> 928799</td></tr>\n",
       "</tbody>\n",
       "</table>\n"
      ],
      "text/latex": [
       "\\begin{tabular}{r|lllllll}\n",
       " Gender & FSIQ & VIQ & PIQ & Weight & Height & MRI\\_Count\\\\\n",
       "\\hline\n",
       "\t Female  & 133     & 132     & 124     & 118     & 64.5    &  816932\\\\\n",
       "\t Male    & 140     & 150     & 124     &  NA     & 72.5    & 1001121\\\\\n",
       "\t Male    & 139     & 123     & 150     & 143     & 73.3    & 1038437\\\\\n",
       "\t Male    & 133     & 129     & 128     & 172     & 68.8    &  965353\\\\\n",
       "\t Female  & 137     & 132     & 134     & 147     & 65.0    &  951545\\\\\n",
       "\t Female  &  99     &  90     & 110     & 146     & 69.0    &  928799\\\\\n",
       "\\end{tabular}\n"
      ],
      "text/markdown": [
       "\n",
       "Gender | FSIQ | VIQ | PIQ | Weight | Height | MRI_Count | \n",
       "|---|---|---|---|---|---|\n",
       "| Female  | 133     | 132     | 124     | 118     | 64.5    |  816932 | \n",
       "| Male    | 140     | 150     | 124     |  NA     | 72.5    | 1001121 | \n",
       "| Male    | 139     | 123     | 150     | 143     | 73.3    | 1038437 | \n",
       "| Male    | 133     | 129     | 128     | 172     | 68.8    |  965353 | \n",
       "| Female  | 137     | 132     | 134     | 147     | 65.0    |  951545 | \n",
       "| Female  |  99     |  90     | 110     | 146     | 69.0    |  928799 | \n",
       "\n",
       "\n"
      ],
      "text/plain": [
       "  Gender FSIQ VIQ PIQ Weight Height MRI_Count\n",
       "1 Female 133  132 124 118    64.5    816932  \n",
       "2 Male   140  150 124  NA    72.5   1001121  \n",
       "3 Male   139  123 150 143    73.3   1038437  \n",
       "4 Male   133  129 128 172    68.8    965353  \n",
       "5 Female 137  132 134 147    65.0    951545  \n",
       "6 Female  99   90 110 146    69.0    928799  "
      ]
     },
     "metadata": {},
     "output_type": "display_data"
    }
   ],
   "source": [
    "head(df)"
   ]
  },
  {
   "cell_type": "code",
   "execution_count": 6,
   "metadata": {},
   "outputs": [],
   "source": [
    "X = df['VIQ']\n",
    "y = df['FSIQ']"
   ]
  },
  {
   "cell_type": "code",
   "execution_count": 8,
   "metadata": {},
   "outputs": [
    {
     "data": {
      "text/html": [
       "<dl class=dl-horizontal>\n",
       "\t<dt>Gender</dt>\n",
       "\t\t<dd>0</dd>\n",
       "\t<dt>FSIQ</dt>\n",
       "\t\t<dd>0</dd>\n",
       "\t<dt>VIQ</dt>\n",
       "\t\t<dd>0</dd>\n",
       "\t<dt>PIQ</dt>\n",
       "\t\t<dd>0</dd>\n",
       "\t<dt>Weight</dt>\n",
       "\t\t<dd>2</dd>\n",
       "\t<dt>Height</dt>\n",
       "\t\t<dd>1</dd>\n",
       "\t<dt>MRI_Count</dt>\n",
       "\t\t<dd>0</dd>\n",
       "</dl>\n"
      ],
      "text/latex": [
       "\\begin{description*}\n",
       "\\item[Gender] 0\n",
       "\\item[FSIQ] 0\n",
       "\\item[VIQ] 0\n",
       "\\item[PIQ] 0\n",
       "\\item[Weight] 2\n",
       "\\item[Height] 1\n",
       "\\item[MRI\\textbackslash{}\\_Count] 0\n",
       "\\end{description*}\n"
      ],
      "text/markdown": [
       "Gender\n",
       ":   0FSIQ\n",
       ":   0VIQ\n",
       ":   0PIQ\n",
       ":   0Weight\n",
       ":   2Height\n",
       ":   1MRI_Count\n",
       ":   0\n",
       "\n"
      ],
      "text/plain": [
       "   Gender      FSIQ       VIQ       PIQ    Weight    Height MRI_Count \n",
       "        0         0         0         0         2         1         0 "
      ]
     },
     "metadata": {},
     "output_type": "display_data"
    }
   ],
   "source": [
    "sapply(df, function(x) sum(is.na(x)))"
   ]
  }
 ],
 "metadata": {
  "kernelspec": {
   "display_name": "R",
   "language": "R",
   "name": "r"
  },
  "language_info": {
   "codemirror_mode": "r",
   "file_extension": ".r",
   "mimetype": "text/x-r-source",
   "name": "R",
   "pygments_lexer": "r",
   "version": "3.4.1"
  }
 },
 "nbformat": 4,
 "nbformat_minor": 2
}
