{
 "cells": [
  {
   "cell_type": "code",
   "execution_count": 2,
   "metadata": {},
   "outputs": [],
   "source": [
    "library(dplyr) # includes group_by function"
   ]
  },
  {
   "cell_type": "markdown",
   "metadata": {},
   "source": [
    "Загрузим данные:"
   ]
  },
  {
   "cell_type": "code",
   "execution_count": 3,
   "metadata": {},
   "outputs": [],
   "source": [
    "df <- read.csv(\"mlbootcamp5_train.csv\", sep=';')"
   ]
  },
  {
   "cell_type": "code",
   "execution_count": 4,
   "metadata": {
    "scrolled": true
   },
   "outputs": [
    {
     "data": {
      "text/html": [
       "<table>\n",
       "<thead><tr><th scope=col>id</th><th scope=col>age</th><th scope=col>gender</th><th scope=col>height</th><th scope=col>weight</th><th scope=col>ap_hi</th><th scope=col>ap_lo</th><th scope=col>cholesterol</th><th scope=col>gluc</th><th scope=col>smoke</th><th scope=col>alco</th><th scope=col>active</th><th scope=col>cardio</th></tr></thead>\n",
       "<tbody>\n",
       "\t<tr><td>0    </td><td>18393</td><td>2    </td><td>168  </td><td>62   </td><td>110  </td><td> 80  </td><td>1    </td><td>1    </td><td>0    </td><td>0    </td><td>1    </td><td>0    </td></tr>\n",
       "\t<tr><td>1    </td><td>20228</td><td>1    </td><td>156  </td><td>85   </td><td>140  </td><td> 90  </td><td>3    </td><td>1    </td><td>0    </td><td>0    </td><td>1    </td><td>1    </td></tr>\n",
       "\t<tr><td>2    </td><td>18857</td><td>1    </td><td>165  </td><td>64   </td><td>130  </td><td> 70  </td><td>3    </td><td>1    </td><td>0    </td><td>0    </td><td>0    </td><td>1    </td></tr>\n",
       "\t<tr><td>3    </td><td>17623</td><td>2    </td><td>169  </td><td>82   </td><td>150  </td><td>100  </td><td>1    </td><td>1    </td><td>0    </td><td>0    </td><td>1    </td><td>1    </td></tr>\n",
       "\t<tr><td>4    </td><td>17474</td><td>1    </td><td>156  </td><td>56   </td><td>100  </td><td> 60  </td><td>1    </td><td>1    </td><td>0    </td><td>0    </td><td>0    </td><td>0    </td></tr>\n",
       "\t<tr><td>8    </td><td>21914</td><td>1    </td><td>151  </td><td>67   </td><td>120  </td><td> 80  </td><td>2    </td><td>2    </td><td>0    </td><td>0    </td><td>0    </td><td>0    </td></tr>\n",
       "</tbody>\n",
       "</table>\n"
      ],
      "text/latex": [
       "\\begin{tabular}{r|lllllllllllll}\n",
       " id & age & gender & height & weight & ap\\_hi & ap\\_lo & cholesterol & gluc & smoke & alco & active & cardio\\\\\n",
       "\\hline\n",
       "\t 0     & 18393 & 2     & 168   & 62    & 110   &  80   & 1     & 1     & 0     & 0     & 1     & 0    \\\\\n",
       "\t 1     & 20228 & 1     & 156   & 85    & 140   &  90   & 3     & 1     & 0     & 0     & 1     & 1    \\\\\n",
       "\t 2     & 18857 & 1     & 165   & 64    & 130   &  70   & 3     & 1     & 0     & 0     & 0     & 1    \\\\\n",
       "\t 3     & 17623 & 2     & 169   & 82    & 150   & 100   & 1     & 1     & 0     & 0     & 1     & 1    \\\\\n",
       "\t 4     & 17474 & 1     & 156   & 56    & 100   &  60   & 1     & 1     & 0     & 0     & 0     & 0    \\\\\n",
       "\t 8     & 21914 & 1     & 151   & 67    & 120   &  80   & 2     & 2     & 0     & 0     & 0     & 0    \\\\\n",
       "\\end{tabular}\n"
      ],
      "text/markdown": [
       "\n",
       "id | age | gender | height | weight | ap_hi | ap_lo | cholesterol | gluc | smoke | alco | active | cardio | \n",
       "|---|---|---|---|---|---|\n",
       "| 0     | 18393 | 2     | 168   | 62    | 110   |  80   | 1     | 1     | 0     | 0     | 1     | 0     | \n",
       "| 1     | 20228 | 1     | 156   | 85    | 140   |  90   | 3     | 1     | 0     | 0     | 1     | 1     | \n",
       "| 2     | 18857 | 1     | 165   | 64    | 130   |  70   | 3     | 1     | 0     | 0     | 0     | 1     | \n",
       "| 3     | 17623 | 2     | 169   | 82    | 150   | 100   | 1     | 1     | 0     | 0     | 1     | 1     | \n",
       "| 4     | 17474 | 1     | 156   | 56    | 100   |  60   | 1     | 1     | 0     | 0     | 0     | 0     | \n",
       "| 8     | 21914 | 1     | 151   | 67    | 120   |  80   | 2     | 2     | 0     | 0     | 0     | 0     | \n",
       "\n",
       "\n"
      ],
      "text/plain": [
       "  id age   gender height weight ap_hi ap_lo cholesterol gluc smoke alco active\n",
       "1 0  18393 2      168    62     110    80   1           1    0     0    1     \n",
       "2 1  20228 1      156    85     140    90   3           1    0     0    1     \n",
       "3 2  18857 1      165    64     130    70   3           1    0     0    0     \n",
       "4 3  17623 2      169    82     150   100   1           1    0     0    1     \n",
       "5 4  17474 1      156    56     100    60   1           1    0     0    0     \n",
       "6 8  21914 1      151    67     120    80   2           2    0     0    0     \n",
       "  cardio\n",
       "1 0     \n",
       "2 1     \n",
       "3 1     \n",
       "4 1     \n",
       "5 0     \n",
       "6 0     "
      ]
     },
     "metadata": {},
     "output_type": "display_data"
    }
   ],
   "source": [
    "head(df)"
   ]
  },
  {
   "cell_type": "markdown",
   "metadata": {},
   "source": [
    "Размер данных, названия признаков и их типы:"
   ]
  },
  {
   "cell_type": "code",
   "execution_count": 5,
   "metadata": {},
   "outputs": [
    {
     "data": {
      "text/html": [
       "<ol class=list-inline>\n",
       "\t<li>70000</li>\n",
       "\t<li>13</li>\n",
       "</ol>\n"
      ],
      "text/latex": [
       "\\begin{enumerate*}\n",
       "\\item 70000\n",
       "\\item 13\n",
       "\\end{enumerate*}\n"
      ],
      "text/markdown": [
       "1. 70000\n",
       "2. 13\n",
       "\n",
       "\n"
      ],
      "text/plain": [
       "[1] 70000    13"
      ]
     },
     "metadata": {},
     "output_type": "display_data"
    },
    {
     "data": {
      "text/html": [
       "<ol class=list-inline>\n",
       "\t<li>'id'</li>\n",
       "\t<li>'age'</li>\n",
       "\t<li>'gender'</li>\n",
       "\t<li>'height'</li>\n",
       "\t<li>'weight'</li>\n",
       "\t<li>'ap_hi'</li>\n",
       "\t<li>'ap_lo'</li>\n",
       "\t<li>'cholesterol'</li>\n",
       "\t<li>'gluc'</li>\n",
       "\t<li>'smoke'</li>\n",
       "\t<li>'alco'</li>\n",
       "\t<li>'active'</li>\n",
       "\t<li>'cardio'</li>\n",
       "</ol>\n"
      ],
      "text/latex": [
       "\\begin{enumerate*}\n",
       "\\item 'id'\n",
       "\\item 'age'\n",
       "\\item 'gender'\n",
       "\\item 'height'\n",
       "\\item 'weight'\n",
       "\\item 'ap\\_hi'\n",
       "\\item 'ap\\_lo'\n",
       "\\item 'cholesterol'\n",
       "\\item 'gluc'\n",
       "\\item 'smoke'\n",
       "\\item 'alco'\n",
       "\\item 'active'\n",
       "\\item 'cardio'\n",
       "\\end{enumerate*}\n"
      ],
      "text/markdown": [
       "1. 'id'\n",
       "2. 'age'\n",
       "3. 'gender'\n",
       "4. 'height'\n",
       "5. 'weight'\n",
       "6. 'ap_hi'\n",
       "7. 'ap_lo'\n",
       "8. 'cholesterol'\n",
       "9. 'gluc'\n",
       "10. 'smoke'\n",
       "11. 'alco'\n",
       "12. 'active'\n",
       "13. 'cardio'\n",
       "\n",
       "\n"
      ],
      "text/plain": [
       " [1] \"id\"          \"age\"         \"gender\"      \"height\"      \"weight\"     \n",
       " [6] \"ap_hi\"       \"ap_lo\"       \"cholesterol\" \"gluc\"        \"smoke\"      \n",
       "[11] \"alco\"        \"active\"      \"cardio\"     "
      ]
     },
     "metadata": {},
     "output_type": "display_data"
    }
   ],
   "source": [
    "dim(df)\n",
    "# nrow(df)\n",
    "# ncol(df)\n",
    "colnames(df)"
   ]
  },
  {
   "cell_type": "code",
   "execution_count": 6,
   "metadata": {},
   "outputs": [
    {
     "name": "stdout",
     "output_type": "stream",
     "text": [
      "'data.frame':\t70000 obs. of  13 variables:\n",
      " $ id         : int  0 1 2 3 4 8 9 12 13 14 ...\n",
      " $ age        : int  18393 20228 18857 17623 17474 21914 22113 22584 17668 19834 ...\n",
      " $ gender     : int  2 1 1 2 1 1 1 2 1 1 ...\n",
      " $ height     : int  168 156 165 169 156 151 157 178 158 164 ...\n",
      " $ weight     : num  62 85 64 82 56 67 93 95 71 68 ...\n",
      " $ ap_hi      : int  110 140 130 150 100 120 130 130 110 110 ...\n",
      " $ ap_lo      : int  80 90 70 100 60 80 80 90 70 60 ...\n",
      " $ cholesterol: int  1 3 3 1 1 2 3 3 1 1 ...\n",
      " $ gluc       : int  1 1 1 1 1 2 1 3 1 1 ...\n",
      " $ smoke      : int  0 0 0 0 0 0 0 0 0 0 ...\n",
      " $ alco       : int  0 0 0 0 0 0 0 0 0 0 ...\n",
      " $ active     : int  1 1 0 1 0 0 1 1 1 0 ...\n",
      " $ cardio     : int  0 1 1 1 0 0 0 1 0 0 ...\n"
     ]
    }
   ],
   "source": [
    "str(df)"
   ]
  },
  {
   "cell_type": "code",
   "execution_count": 7,
   "metadata": {},
   "outputs": [
    {
     "data": {
      "text/html": [
       "<dl class=dl-horizontal>\n",
       "\t<dt>id</dt>\n",
       "\t\t<dd>0</dd>\n",
       "\t<dt>age</dt>\n",
       "\t\t<dd>0</dd>\n",
       "\t<dt>gender</dt>\n",
       "\t\t<dd>0</dd>\n",
       "\t<dt>height</dt>\n",
       "\t\t<dd>0</dd>\n",
       "\t<dt>weight</dt>\n",
       "\t\t<dd>0</dd>\n",
       "\t<dt>ap_hi</dt>\n",
       "\t\t<dd>0</dd>\n",
       "\t<dt>ap_lo</dt>\n",
       "\t\t<dd>0</dd>\n",
       "\t<dt>cholesterol</dt>\n",
       "\t\t<dd>0</dd>\n",
       "\t<dt>gluc</dt>\n",
       "\t\t<dd>0</dd>\n",
       "\t<dt>smoke</dt>\n",
       "\t\t<dd>0</dd>\n",
       "\t<dt>alco</dt>\n",
       "\t\t<dd>0</dd>\n",
       "\t<dt>active</dt>\n",
       "\t\t<dd>0</dd>\n",
       "\t<dt>cardio</dt>\n",
       "\t\t<dd>0</dd>\n",
       "</dl>\n"
      ],
      "text/latex": [
       "\\begin{description*}\n",
       "\\item[id] 0\n",
       "\\item[age] 0\n",
       "\\item[gender] 0\n",
       "\\item[height] 0\n",
       "\\item[weight] 0\n",
       "\\item[ap\\textbackslash{}\\_hi] 0\n",
       "\\item[ap\\textbackslash{}\\_lo] 0\n",
       "\\item[cholesterol] 0\n",
       "\\item[gluc] 0\n",
       "\\item[smoke] 0\n",
       "\\item[alco] 0\n",
       "\\item[active] 0\n",
       "\\item[cardio] 0\n",
       "\\end{description*}\n"
      ],
      "text/markdown": [
       "id\n",
       ":   0age\n",
       ":   0gender\n",
       ":   0height\n",
       ":   0weight\n",
       ":   0ap_hi\n",
       ":   0ap_lo\n",
       ":   0cholesterol\n",
       ":   0gluc\n",
       ":   0smoke\n",
       ":   0alco\n",
       ":   0active\n",
       ":   0cardio\n",
       ":   0\n",
       "\n"
      ],
      "text/plain": [
       "         id         age      gender      height      weight       ap_hi \n",
       "          0           0           0           0           0           0 \n",
       "      ap_lo cholesterol        gluc       smoke        alco      active \n",
       "          0           0           0           0           0           0 \n",
       "     cardio \n",
       "          0 "
      ]
     },
     "metadata": {},
     "output_type": "display_data"
    }
   ],
   "source": [
    "sapply(df, function(x) sum(is.na(x)))  # есть ли пропуски в данных"
   ]
  },
  {
   "cell_type": "markdown",
   "metadata": {},
   "source": [
    "### Задание 1.\n",
    "* Сколько мужчин и женщин представлено в этом наборе данных?"
   ]
  },
  {
   "cell_type": "code",
   "execution_count": 8,
   "metadata": {},
   "outputs": [
    {
     "data": {
      "text/html": [
       "<table>\n",
       "<thead><tr><th scope=col>gender</th><th scope=col>height</th></tr></thead>\n",
       "<tbody>\n",
       "\t<tr><td>1       </td><td>161.3556</td></tr>\n",
       "\t<tr><td>2       </td><td>169.9479</td></tr>\n",
       "</tbody>\n",
       "</table>\n"
      ],
      "text/latex": [
       "\\begin{tabular}{r|ll}\n",
       " gender & height\\\\\n",
       "\\hline\n",
       "\t 1        & 161.3556\\\\\n",
       "\t 2        & 169.9479\\\\\n",
       "\\end{tabular}\n"
      ],
      "text/markdown": [
       "\n",
       "gender | height | \n",
       "|---|---|\n",
       "| 1        | 161.3556 | \n",
       "| 2        | 169.9479 | \n",
       "\n",
       "\n"
      ],
      "text/plain": [
       "  gender height  \n",
       "1 1      161.3556\n",
       "2 2      169.9479"
      ]
     },
     "metadata": {},
     "output_type": "display_data"
    },
    {
     "name": "stdout",
     "output_type": "stream",
     "text": [
      "Female: 45530 \n",
      "Male: 24470"
     ]
    }
   ],
   "source": [
    "df %>% group_by(gender) %>%\n",
    "  select(gender, height) %>%\n",
    "  summarise_all(funs(mean))\n",
    "\n",
    "cat('Female:', nrow(subset(df, gender==1)), '\\n')\n",
    "cat('Male:', nrow(subset(df, gender==2)))"
   ]
  },
  {
   "cell_type": "markdown",
   "metadata": {},
   "source": [
    "### Задание 2.\n",
    "* Кто в среднем реже указывает, что употребляет алкоголь – мужчины или женщины?"
   ]
  },
  {
   "cell_type": "code",
   "execution_count": 9,
   "metadata": {},
   "outputs": [
    {
     "data": {
      "text/html": [
       "<table>\n",
       "<thead><tr><th scope=col>gender</th><th scope=col>alco</th></tr></thead>\n",
       "<tbody>\n",
       "\t<tr><td>1         </td><td>0.02549967</td></tr>\n",
       "\t<tr><td>2         </td><td>0.10637515</td></tr>\n",
       "</tbody>\n",
       "</table>\n"
      ],
      "text/latex": [
       "\\begin{tabular}{r|ll}\n",
       " gender & alco\\\\\n",
       "\\hline\n",
       "\t 1          & 0.02549967\\\\\n",
       "\t 2          & 0.10637515\\\\\n",
       "\\end{tabular}\n"
      ],
      "text/markdown": [
       "\n",
       "gender | alco | \n",
       "|---|---|\n",
       "| 1          | 0.02549967 | \n",
       "| 2          | 0.10637515 | \n",
       "\n",
       "\n"
      ],
      "text/plain": [
       "  gender alco      \n",
       "1 1      0.02549967\n",
       "2 2      0.10637515"
      ]
     },
     "metadata": {},
     "output_type": "display_data"
    }
   ],
   "source": [
    "df %>% group_by(gender) %>%\n",
    "  select(gender, alco) %>%\n",
    "  summarise_all(funs(mean))  # female"
   ]
  },
  {
   "cell_type": "markdown",
   "metadata": {},
   "source": [
    "### Задание 3.\n",
    "* Во сколько раз (округленно, round) процент курящих среди мужчин больше, чем процент курящих\n",
    "  среди женщин (по этим анкетным данным)?"
   ]
  },
  {
   "cell_type": "code",
   "execution_count": 10,
   "metadata": {},
   "outputs": [
    {
     "data": {
      "text/html": [
       "<table>\n",
       "<thead><tr><th scope=col>gender</th><th scope=col>smoke</th></tr></thead>\n",
       "<tbody>\n",
       "\t<tr><td>1         </td><td>0.01785636</td></tr>\n",
       "\t<tr><td>2         </td><td>0.21888026</td></tr>\n",
       "</tbody>\n",
       "</table>\n"
      ],
      "text/latex": [
       "\\begin{tabular}{r|ll}\n",
       " gender & smoke\\\\\n",
       "\\hline\n",
       "\t 1          & 0.01785636\\\\\n",
       "\t 2          & 0.21888026\\\\\n",
       "\\end{tabular}\n"
      ],
      "text/markdown": [
       "\n",
       "gender | smoke | \n",
       "|---|---|\n",
       "| 1          | 0.01785636 | \n",
       "| 2          | 0.21888026 | \n",
       "\n",
       "\n"
      ],
      "text/plain": [
       "  gender smoke     \n",
       "1 1      0.01785636\n",
       "2 2      0.21888026"
      ]
     },
     "metadata": {},
     "output_type": "display_data"
    }
   ],
   "source": [
    "df %>% group_by(gender) %>%\n",
    "  select(gender, smoke) %>%\n",
    "  summarise_all(funs(mean))"
   ]
  },
  {
   "cell_type": "code",
   "execution_count": 11,
   "metadata": {},
   "outputs": [
    {
     "data": {
      "text/html": [
       "12"
      ],
      "text/latex": [
       "12"
      ],
      "text/markdown": [
       "12"
      ],
      "text/plain": [
       "[1] 12"
      ]
     },
     "metadata": {},
     "output_type": "display_data"
    }
   ],
   "source": [
    "round(mean(df[df['gender'] == 2, 'smoke']) / mean(df[df['gender'] == 1, 'smoke']))"
   ]
  },
  {
   "cell_type": "markdown",
   "metadata": {},
   "source": [
    "### Задание 4.\n",
    "* В чём здесь измеряется возраст? На сколько месяцев (примерно) отличаются медианные значения\n",
    "  возраста курящих и некурящих?"
   ]
  },
  {
   "cell_type": "code",
   "execution_count": 12,
   "metadata": {},
   "outputs": [
    {
     "data": {
      "text/html": [
       "20"
      ],
      "text/latex": [
       "20"
      ],
      "text/markdown": [
       "20"
      ],
      "text/plain": [
       "[1] 20"
      ]
     },
     "metadata": {},
     "output_type": "display_data"
    }
   ],
   "source": [
    "round(Mod(median(df[df['smoke'] == 1, 'age']) / 30 - median(df[df['smoke'] == 0, 'age']) / 30))"
   ]
  },
  {
   "cell_type": "markdown",
   "metadata": {},
   "source": [
    "### Задание 5.\n",
    "* Уточнения:\n",
    "  1. Создайте новый признак age_years – возраст в годах, округлив до целых (round).\n",
    "     Для данного примера отберите курящих мужчин от 60 до 64 лет включительно.\n",
    "  2. Категории уровня холестрина на рисунке и в наших данных отличаются. Отображение значений на картинке\n",
    "     в значения признака cholesterol следующее: 4 ммоль/л -> 1, 5-7 ммоль/л -> 2, 8 ммоль/л -> 3.\n",
    "  3. Интересуют 2 подвыборки курящих мужчин возраста от 60 до 64 лет включительно:\n",
    "     первая с верхним артериальным давлением строго меньше 120 мм рт.ст. и концентрацией холестерина – 4 ммоль/л,\n",
    "     а вторая – с верхним артериальным давлением от 160 (включительно) до 180 мм рт.ст. (не включительно)\n",
    "     и концентрацией холестерина – 8 ммоль/л.\n",
    "\n",
    "  Во сколько раз (округленно, round) отличаются доли больных людей (согласно целевому признаку, cardio)\n",
    "  в этих двух подвыборках?"
   ]
  },
  {
   "cell_type": "code",
   "execution_count": 13,
   "metadata": {},
   "outputs": [],
   "source": [
    "df$age_years <- round(df$age / 365)  # new column"
   ]
  },
  {
   "cell_type": "code",
   "execution_count": 14,
   "metadata": {},
   "outputs": [
    {
     "data": {
      "text/html": [
       "<table>\n",
       "<thead><tr><th scope=col>id</th><th scope=col>age</th><th scope=col>gender</th><th scope=col>height</th><th scope=col>weight</th><th scope=col>ap_hi</th><th scope=col>ap_lo</th><th scope=col>cholesterol</th><th scope=col>gluc</th><th scope=col>smoke</th><th scope=col>alco</th><th scope=col>active</th><th scope=col>cardio</th><th scope=col>age_years</th></tr></thead>\n",
       "<tbody>\n",
       "\t<tr><td>0    </td><td>18393</td><td>2    </td><td>168  </td><td>62   </td><td>110  </td><td>80   </td><td>1    </td><td>1    </td><td>0    </td><td>0    </td><td>1    </td><td>0    </td><td>50   </td></tr>\n",
       "\t<tr><td>1    </td><td>20228</td><td>1    </td><td>156  </td><td>85   </td><td>140  </td><td>90   </td><td>3    </td><td>1    </td><td>0    </td><td>0    </td><td>1    </td><td>1    </td><td>55   </td></tr>\n",
       "\t<tr><td>2    </td><td>18857</td><td>1    </td><td>165  </td><td>64   </td><td>130  </td><td>70   </td><td>3    </td><td>1    </td><td>0    </td><td>0    </td><td>0    </td><td>1    </td><td>52   </td></tr>\n",
       "</tbody>\n",
       "</table>\n"
      ],
      "text/latex": [
       "\\begin{tabular}{r|llllllllllllll}\n",
       " id & age & gender & height & weight & ap\\_hi & ap\\_lo & cholesterol & gluc & smoke & alco & active & cardio & age\\_years\\\\\n",
       "\\hline\n",
       "\t 0     & 18393 & 2     & 168   & 62    & 110   & 80    & 1     & 1     & 0     & 0     & 1     & 0     & 50   \\\\\n",
       "\t 1     & 20228 & 1     & 156   & 85    & 140   & 90    & 3     & 1     & 0     & 0     & 1     & 1     & 55   \\\\\n",
       "\t 2     & 18857 & 1     & 165   & 64    & 130   & 70    & 3     & 1     & 0     & 0     & 0     & 1     & 52   \\\\\n",
       "\\end{tabular}\n"
      ],
      "text/markdown": [
       "\n",
       "id | age | gender | height | weight | ap_hi | ap_lo | cholesterol | gluc | smoke | alco | active | cardio | age_years | \n",
       "|---|---|---|\n",
       "| 0     | 18393 | 2     | 168   | 62    | 110   | 80    | 1     | 1     | 0     | 0     | 1     | 0     | 50    | \n",
       "| 1     | 20228 | 1     | 156   | 85    | 140   | 90    | 3     | 1     | 0     | 0     | 1     | 1     | 55    | \n",
       "| 2     | 18857 | 1     | 165   | 64    | 130   | 70    | 3     | 1     | 0     | 0     | 0     | 1     | 52    | \n",
       "\n",
       "\n"
      ],
      "text/plain": [
       "  id age   gender height weight ap_hi ap_lo cholesterol gluc smoke alco active\n",
       "1 0  18393 2      168    62     110   80    1           1    0     0    1     \n",
       "2 1  20228 1      156    85     140   90    3           1    0     0    1     \n",
       "3 2  18857 1      165    64     130   70    3           1    0     0    0     \n",
       "  cardio age_years\n",
       "1 0      50       \n",
       "2 1      55       \n",
       "3 1      52       "
      ]
     },
     "metadata": {},
     "output_type": "display_data"
    }
   ],
   "source": [
    "head(df, 3)"
   ]
  },
  {
   "cell_type": "code",
   "execution_count": 15,
   "metadata": {},
   "outputs": [
    {
     "name": "stdout",
     "output_type": "stream",
     "text": [
      "0.2564103 0.8636364"
     ]
    }
   ],
   "source": [
    "cls1 <- mean(df[df$gender == 2 & df$smoke == 1 & df$age_years >= 60 & df$age_years <= 64 & \n",
    "               df$cholesterol == 1 & df$ap_hi < 120, 'cardio'])\n",
    "\n",
    "cls3 <- mean(df[df$gender == 2 & df$smoke == 1 & df$age_years >= 60 & df$age_years <= 64 & \n",
    "                  df$cholesterol == 3 & df$ap_hi >= 160 & df$ap_hi < 180, 'cardio'])\n",
    "\n",
    "cat(cls1, cls3)"
   ]
  },
  {
   "cell_type": "code",
   "execution_count": 16,
   "metadata": {},
   "outputs": [
    {
     "data": {
      "text/html": [
       "3"
      ],
      "text/latex": [
       "3"
      ],
      "text/markdown": [
       "3"
      ],
      "text/plain": [
       "[1] 3"
      ]
     },
     "metadata": {},
     "output_type": "display_data"
    }
   ],
   "source": [
    "round(max(cls1, cls3) / min(cls1, cls3))"
   ]
  },
  {
   "cell_type": "markdown",
   "metadata": {},
   "source": [
    "### Задание 6.\n",
    "* Постройте новый признак – BMI (Body Mass Index). Для этого надо вес в килограммах\n",
    "  поделить на квадрат роста в метрах. Нормальными считаются значения BMI от 18.5 до 25.\n",
    "\n",
    "  Выбрать верные утверждения:\n",
    "\n",
    "  1. <b>YES</b> Медианный BMI по выборке превышает норму.\n",
    "  2. <b>NO</b> У женщин в среднем BMI ниже, чем у мужчин.\n",
    "  3. <b>NO</b> У здоровых в среднем BMI выше, чем у больных.\n",
    "  4. <b>YES</b> В сегменте здоровых и непьющих мужчин в среднем BMI ближе к норме,\n",
    "    чем в сегменте здоровых и непьющих женщин."
   ]
  },
  {
   "cell_type": "markdown",
   "metadata": {},
   "source": [
    "<b>1</b>"
   ]
  },
  {
   "cell_type": "code",
   "execution_count": 17,
   "metadata": {},
   "outputs": [
    {
     "data": {
      "text/html": [
       "<table>\n",
       "<thead><tr><th scope=col>id</th><th scope=col>age</th><th scope=col>gender</th><th scope=col>height</th><th scope=col>weight</th><th scope=col>ap_hi</th><th scope=col>ap_lo</th><th scope=col>cholesterol</th><th scope=col>gluc</th><th scope=col>smoke</th><th scope=col>alco</th><th scope=col>active</th><th scope=col>cardio</th><th scope=col>age_years</th><th scope=col>BMI</th></tr></thead>\n",
       "<tbody>\n",
       "\t<tr><td>0       </td><td>18393   </td><td>2       </td><td>168     </td><td>62      </td><td>110     </td><td>80      </td><td>1       </td><td>1       </td><td>0       </td><td>0       </td><td>1       </td><td>0       </td><td>50      </td><td>21.96712</td></tr>\n",
       "\t<tr><td>1       </td><td>20228   </td><td>1       </td><td>156     </td><td>85      </td><td>140     </td><td>90      </td><td>3       </td><td>1       </td><td>0       </td><td>0       </td><td>1       </td><td>1       </td><td>55      </td><td>34.92768</td></tr>\n",
       "\t<tr><td>2       </td><td>18857   </td><td>1       </td><td>165     </td><td>64      </td><td>130     </td><td>70      </td><td>3       </td><td>1       </td><td>0       </td><td>0       </td><td>0       </td><td>1       </td><td>52      </td><td>23.50781</td></tr>\n",
       "</tbody>\n",
       "</table>\n"
      ],
      "text/latex": [
       "\\begin{tabular}{r|lllllllllllllll}\n",
       " id & age & gender & height & weight & ap\\_hi & ap\\_lo & cholesterol & gluc & smoke & alco & active & cardio & age\\_years & BMI\\\\\n",
       "\\hline\n",
       "\t 0        & 18393    & 2        & 168      & 62       & 110      & 80       & 1        & 1        & 0        & 0        & 1        & 0        & 50       & 21.96712\\\\\n",
       "\t 1        & 20228    & 1        & 156      & 85       & 140      & 90       & 3        & 1        & 0        & 0        & 1        & 1        & 55       & 34.92768\\\\\n",
       "\t 2        & 18857    & 1        & 165      & 64       & 130      & 70       & 3        & 1        & 0        & 0        & 0        & 1        & 52       & 23.50781\\\\\n",
       "\\end{tabular}\n"
      ],
      "text/markdown": [
       "\n",
       "id | age | gender | height | weight | ap_hi | ap_lo | cholesterol | gluc | smoke | alco | active | cardio | age_years | BMI | \n",
       "|---|---|---|\n",
       "| 0        | 18393    | 2        | 168      | 62       | 110      | 80       | 1        | 1        | 0        | 0        | 1        | 0        | 50       | 21.96712 | \n",
       "| 1        | 20228    | 1        | 156      | 85       | 140      | 90       | 3        | 1        | 0        | 0        | 1        | 1        | 55       | 34.92768 | \n",
       "| 2        | 18857    | 1        | 165      | 64       | 130      | 70       | 3        | 1        | 0        | 0        | 0        | 1        | 52       | 23.50781 | \n",
       "\n",
       "\n"
      ],
      "text/plain": [
       "  id age   gender height weight ap_hi ap_lo cholesterol gluc smoke alco active\n",
       "1 0  18393 2      168    62     110   80    1           1    0     0    1     \n",
       "2 1  20228 1      156    85     140   90    3           1    0     0    1     \n",
       "3 2  18857 1      165    64     130   70    3           1    0     0    0     \n",
       "  cardio age_years BMI     \n",
       "1 0      50        21.96712\n",
       "2 1      55        34.92768\n",
       "3 1      52        23.50781"
      ]
     },
     "metadata": {},
     "output_type": "display_data"
    },
    {
     "name": "stdout",
     "output_type": "stream",
     "text": [
      "Median: 26.37407"
     ]
    }
   ],
   "source": [
    "df$BMI <- df$weight / (df$height / 100) ** 2\n",
    "head(df, 3)\n",
    "cat('Median:', median(df$BMI))"
   ]
  },
  {
   "cell_type": "markdown",
   "metadata": {},
   "source": [
    "<b>2</b>"
   ]
  },
  {
   "cell_type": "code",
   "execution_count": 18,
   "metadata": {},
   "outputs": [
    {
     "data": {
      "text/html": [
       "<table>\n",
       "<thead><tr><th scope=col>gender</th><th scope=col>BMI</th></tr></thead>\n",
       "<tbody>\n",
       "\t<tr><td>1       </td><td>27.98758</td></tr>\n",
       "\t<tr><td>2       </td><td>26.75444</td></tr>\n",
       "</tbody>\n",
       "</table>\n"
      ],
      "text/latex": [
       "\\begin{tabular}{r|ll}\n",
       " gender & BMI\\\\\n",
       "\\hline\n",
       "\t 1        & 27.98758\\\\\n",
       "\t 2        & 26.75444\\\\\n",
       "\\end{tabular}\n"
      ],
      "text/markdown": [
       "\n",
       "gender | BMI | \n",
       "|---|---|\n",
       "| 1        | 27.98758 | \n",
       "| 2        | 26.75444 | \n",
       "\n",
       "\n"
      ],
      "text/plain": [
       "  gender BMI     \n",
       "1 1      27.98758\n",
       "2 2      26.75444"
      ]
     },
     "metadata": {},
     "output_type": "display_data"
    }
   ],
   "source": [
    "df %>% group_by(gender) %>%\n",
    "  select(gender, BMI) %>%\n",
    "  summarise_all(funs(mean))"
   ]
  },
  {
   "cell_type": "markdown",
   "metadata": {},
   "source": [
    "<b>3</b>"
   ]
  },
  {
   "cell_type": "code",
   "execution_count": 19,
   "metadata": {},
   "outputs": [
    {
     "data": {
      "text/html": [
       "<table>\n",
       "<thead><tr><th scope=col>cardio</th><th scope=col>BMI</th></tr></thead>\n",
       "<tbody>\n",
       "\t<tr><td>0       </td><td>26.54818</td></tr>\n",
       "\t<tr><td>1       </td><td>28.56606</td></tr>\n",
       "</tbody>\n",
       "</table>\n"
      ],
      "text/latex": [
       "\\begin{tabular}{r|ll}\n",
       " cardio & BMI\\\\\n",
       "\\hline\n",
       "\t 0        & 26.54818\\\\\n",
       "\t 1        & 28.56606\\\\\n",
       "\\end{tabular}\n"
      ],
      "text/markdown": [
       "\n",
       "cardio | BMI | \n",
       "|---|---|\n",
       "| 0        | 26.54818 | \n",
       "| 1        | 28.56606 | \n",
       "\n",
       "\n"
      ],
      "text/plain": [
       "  cardio BMI     \n",
       "1 0      26.54818\n",
       "2 1      28.56606"
      ]
     },
     "metadata": {},
     "output_type": "display_data"
    }
   ],
   "source": [
    "df %>% group_by(cardio) %>%\n",
    "  select(cardio, BMI) %>%\n",
    "  summarise_all(funs(mean))"
   ]
  },
  {
   "cell_type": "markdown",
   "metadata": {},
   "source": [
    "<b>4</b>"
   ]
  },
  {
   "cell_type": "code",
   "execution_count": 20,
   "metadata": {},
   "outputs": [
    {
     "data": {
      "text/html": [
       "<table>\n",
       "<thead><tr><th scope=col>gender</th><th scope=col>alco</th><th scope=col>cardio</th><th scope=col>BMI</th></tr></thead>\n",
       "<tbody>\n",
       "\t<tr><td>1       </td><td>0       </td><td>0       </td><td>26.84541</td></tr>\n",
       "\t<tr><td>1       </td><td>0       </td><td>1       </td><td>29.05277</td></tr>\n",
       "\t<tr><td>1       </td><td>1       </td><td>0       </td><td>28.67146</td></tr>\n",
       "\t<tr><td>1       </td><td>1       </td><td>1       </td><td>30.81235</td></tr>\n",
       "\t<tr><td>2       </td><td>0       </td><td>0       </td><td>25.87264</td></tr>\n",
       "\t<tr><td>2       </td><td>0       </td><td>1       </td><td>27.52245</td></tr>\n",
       "\t<tr><td>2       </td><td>1       </td><td>0       </td><td>26.09722</td></tr>\n",
       "\t<tr><td>2       </td><td>1       </td><td>1       </td><td>28.22657</td></tr>\n",
       "</tbody>\n",
       "</table>\n"
      ],
      "text/latex": [
       "\\begin{tabular}{r|llll}\n",
       " gender & alco & cardio & BMI\\\\\n",
       "\\hline\n",
       "\t 1        & 0        & 0        & 26.84541\\\\\n",
       "\t 1        & 0        & 1        & 29.05277\\\\\n",
       "\t 1        & 1        & 0        & 28.67146\\\\\n",
       "\t 1        & 1        & 1        & 30.81235\\\\\n",
       "\t 2        & 0        & 0        & 25.87264\\\\\n",
       "\t 2        & 0        & 1        & 27.52245\\\\\n",
       "\t 2        & 1        & 0        & 26.09722\\\\\n",
       "\t 2        & 1        & 1        & 28.22657\\\\\n",
       "\\end{tabular}\n"
      ],
      "text/markdown": [
       "\n",
       "gender | alco | cardio | BMI | \n",
       "|---|---|---|---|---|---|---|---|\n",
       "| 1        | 0        | 0        | 26.84541 | \n",
       "| 1        | 0        | 1        | 29.05277 | \n",
       "| 1        | 1        | 0        | 28.67146 | \n",
       "| 1        | 1        | 1        | 30.81235 | \n",
       "| 2        | 0        | 0        | 25.87264 | \n",
       "| 2        | 0        | 1        | 27.52245 | \n",
       "| 2        | 1        | 0        | 26.09722 | \n",
       "| 2        | 1        | 1        | 28.22657 | \n",
       "\n",
       "\n"
      ],
      "text/plain": [
       "  gender alco cardio BMI     \n",
       "1 1      0    0      26.84541\n",
       "2 1      0    1      29.05277\n",
       "3 1      1    0      28.67146\n",
       "4 1      1    1      30.81235\n",
       "5 2      0    0      25.87264\n",
       "6 2      0    1      27.52245\n",
       "7 2      1    0      26.09722\n",
       "8 2      1    1      28.22657"
      ]
     },
     "metadata": {},
     "output_type": "display_data"
    }
   ],
   "source": [
    "df %>% group_by(gender, alco, cardio) %>%\n",
    "  select(gender, alco, cardio, BMI) %>%\n",
    "  summarise_all(funs(mean))"
   ]
  },
  {
   "cell_type": "markdown",
   "metadata": {},
   "source": [
    "### Задание 7.\n",
    "* Отфильтруйте следующие сегменты пациентов (считаем это ошибками в данных):\n",
    "\n",
    "    1. Указанное нижнее значение артериального давления строго выше верхнего.\n",
    "    2. Рост строго меньше 2.5%-перцентили или строго больше 97.5%-перцентили.\n",
    "    3. Вес строго меньше 2.5%-перцентили или строго больше 97.5%-перцентили.\n",
    "\n",
    "Сколько процентов данных (округленно, round) мы выбросили?"
   ]
  },
  {
   "cell_type": "code",
   "execution_count": 21,
   "metadata": {},
   "outputs": [
    {
     "name": "stdout",
     "output_type": "stream",
     "text": [
      "10 percent."
     ]
    }
   ],
   "source": [
    "tr = nrow(subset(df, df$ap_lo <= df$ap_hi &\n",
    "                 df$height >= quantile(df$height, c(.025))[[1]] & df$height <= quantile(df$height, c(.975))[[1]] &\n",
    "                 df$weight >= quantile(df$weight, c(.025))[[1]] & df$weight <= quantile(df$weight, c(.975))[[1]]\n",
    "                )) / nrow(df)\n",
    "cat(round((1 - tr) * 100), 'percent.')"
   ]
  }
 ],
 "metadata": {
  "kernelspec": {
   "display_name": "R",
   "language": "R",
   "name": "r"
  },
  "language_info": {
   "codemirror_mode": "r",
   "file_extension": ".r",
   "mimetype": "text/x-r-source",
   "name": "R",
   "pygments_lexer": "r",
   "version": "3.4.1"
  }
 },
 "nbformat": 4,
 "nbformat_minor": 2
}
